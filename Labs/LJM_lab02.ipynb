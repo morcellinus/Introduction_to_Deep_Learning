{
  "nbformat": 4,
  "nbformat_minor": 0,
  "metadata": {
    "colab": {
      "name": "LJM-lab02.ipynb",
      "provenance": [],
      "collapsed_sections": [],
      "include_colab_link": true
    },
    "kernelspec": {
      "name": "python3",
      "display_name": "Python 3"
    },
    "language_info": {
      "name": "python"
    },
    "accelerator": "GPU"
  },
  "cells": [
    {
      "cell_type": "markdown",
      "metadata": {
        "id": "view-in-github",
        "colab_type": "text"
      },
      "source": [
        "<a href=\"https://colab.research.google.com/github/morcellinus/Introduction_to_Deep_Learning/blob/main/LJM_lab02.ipynb\" target=\"_parent\"><img src=\"https://colab.research.google.com/assets/colab-badge.svg\" alt=\"Open In Colab\"/></a>"
      ]
    },
    {
      "cell_type": "markdown",
      "metadata": { 
        "id": "FEH-hBlqcKa1"
      },
      "source": [
        "# Lab 2 – Tensors"
      ]
    },
    {
      "cell_type": "code",
      "metadata": {
        "id": "uWjkXtKltY_K"
      },
      "source": [
        "import torch"
      ],
      "execution_count": null,
      "outputs": []
    },
    {
      "cell_type": "markdown",
      "metadata": {
        "id": "D3yBh-vOv3WH"
      },
      "source": [
        "## Create empty tensors\n",
        "- Uninitialised tensors"
      ]
    },
    {
      "cell_type": "code",
      "metadata": {
        "id": "ERfCA-Fntg2w",
        "colab": {
          "base_uri": "https://localhost:8080/"
        },
        "outputId": "73cf07f8-daf6-4dbc-8d48-f775431468d0"
      },
      "source": [
        "# 1-D\n",
        "x = torch.empty(1)\n",
        "print(x)\n",
        "\n",
        "# 1-D with two elements\n",
        "x = torch.empty(2)\n",
        "print(f\"\\n1-D tensor\\n{x}\\n\")\n",
        "\n",
        "# 2-D\n",
        "x = torch.empty(2,3)\n",
        "print(f\"2-D tensor\\n{x}\\n\")\n",
        "\n",
        "# 3-D\n",
        "x = torch.empty(2,3,1)\n",
        "print(\"3-D tensor\\n\",x)\n",
        "\n",
        "torch.ones(3, 1, 2)"
      ],
      "execution_count": null,
      "outputs": [
        {
          "output_type": "stream",
          "name": "stdout",
          "text": [
            "tensor([-2.0073e+35])\n",
            "\n",
            "1-D tensor\n",
            "tensor([-2.0073e+35,  3.0701e-41])\n",
            "\n",
            "2-D tensor\n",
            "tensor([[-2.0073e+35,  3.0701e-41,  0.0000e+00],\n",
            "        [ 0.0000e+00,  0.0000e+00,  0.0000e+00]])\n",
            "\n",
            "3-D tensor\n",
            " tensor([[[-2.0074e+35],\n",
            "         [ 3.0701e-41],\n",
            "         [ 5.0447e-44]],\n",
            "\n",
            "        [[ 0.0000e+00],\n",
            "         [        nan],\n",
            "         [ 0.0000e+00]]])\n"
          ]
        },
        {
          "output_type": "execute_result",
          "data": {
            "text/plain": [
              "tensor([[[1., 1.]],\n",
              "\n",
              "        [[1., 1.]],\n",
              "\n",
              "        [[1., 1.]]])"
            ]
          },
          "metadata": {},
          "execution_count": 2
        }
      ]
    },
    {
      "cell_type": "markdown",
      "metadata": {
        "id": "xO6cW7hlwAsO"
      },
      "source": [
        "## Initialise tensors to scalar, random values, zeros or ones"
      ]
    },
    {
      "cell_type": "code",
      "metadata": {
        "id": "3nyX0btVwD6J",
        "colab": {
          "base_uri": "https://localhost:8080/"
        },
        "outputId": "4334a3d8-c34e-4905-aaa5-703f8a52e389"
      },
      "source": [
        "# 0-D tensor (just containing scalar value 3)\n",
        "x = torch.tensor(3)\n",
        "print(f'Scalar: {x} has shape {x.shape} and {x.ndim} dimensions\\n')\n",
        "\n",
        "# Random values in the interval [0,1]\n",
        "x = torch.rand(2,3)\n",
        "print(f\"Random values:\\n{x}\")\n",
        "print(x.dtype)\n",
        "\n",
        "# Zeros\n",
        "x = torch.zeros(2,3)\n",
        "print(f\"\\nZeros:\\n{x}\")\n",
        "print(x.dtype)\n",
        "\n",
        "x = torch.zeros(2,3, dtype=torch.int)\n",
        "print(f\"\\nZeros:\\n{x}\\n\")\n",
        "\n",
        "# Ones\n",
        "x = torch.ones(2,3)\n",
        "print(f\"Ones:\\n{x}\")\n",
        "print(f\"Type: {x.dtype}\\n\")\n",
        "\n",
        "x = torch.ones(2,3, dtype=torch.double)\n",
        "print(f\"Ones:\\n{x}\")"
      ],
      "execution_count": null,
      "outputs": [
        {
          "output_type": "stream",
          "name": "stdout",
          "text": [
            "Scalar: 3 has shape torch.Size([]) and 0 dimensions\n",
            "\n",
            "Random values:\n",
            "tensor([[0.1379, 0.9361, 0.3738],\n",
            "        [0.0576, 0.0855, 0.0272]])\n",
            "torch.float32\n",
            "\n",
            "Zeros:\n",
            "tensor([[0., 0., 0.],\n",
            "        [0., 0., 0.]])\n",
            "torch.float32\n",
            "\n",
            "Zeros:\n",
            "tensor([[0, 0, 0],\n",
            "        [0, 0, 0]], dtype=torch.int32)\n",
            "\n",
            "Ones:\n",
            "tensor([[1., 1., 1.],\n",
            "        [1., 1., 1.]])\n",
            "Type: torch.float32\n",
            "\n",
            "Ones:\n",
            "tensor([[1., 1., 1.],\n",
            "        [1., 1., 1.]], dtype=torch.float64)\n"
          ]
        }
      ]
    },
    {
      "cell_type": "code",
      "metadata": {
        "colab": {
          "base_uri": "https://localhost:8080/"
        },
        "id": "rD7Z47CWnPkG",
        "outputId": "9ea3e611-0678-4e9e-f5ad-03bcb693f0a7"
      },
      "source": [
        "# Reshaping (2D -> 1D)\n",
        "\n",
        "x = torch.rand(4, 4)\n",
        "x.shape\n",
        "y = x.reshape(16)\n",
        "y"
      ],
      "execution_count": null,
      "outputs": [
        {
          "output_type": "execute_result",
          "data": {
            "text/plain": [
              "tensor([0.0713, 0.7231, 0.8564, 0.7892, 0.3272, 0.9396, 0.5878, 0.2571, 0.4426,\n",
              "        0.4835, 0.6240, 0.9058, 0.2047, 0.6718, 0.3240, 0.4706])"
            ]
          },
          "metadata": {},
          "execution_count": 4
        }
      ]
    },
    {
      "cell_type": "markdown",
      "metadata": {
        "id": "BEAEHoY1xAzC"
      },
      "source": [
        "## Construct tensor from data"
      ]
    },
    {
      "cell_type": "code",
      "metadata": {
        "id": "6Vd7iHsaxFh0",
        "colab": {
          "base_uri": "https://localhost:8080/"
        },
        "outputId": "14accb9b-b84f-45a7-e354-c93b83b53c60"
      },
      "source": [
        "# Change a list to a tensor\n",
        "x = torch.tensor([0.5, 2.7])\n",
        "print(x)"
      ],
      "execution_count": null,
      "outputs": [
        {
          "output_type": "stream",
          "name": "stdout",
          "text": [
            "tensor([0.5000, 2.7000])\n"
          ]
        }
      ]
    },
    {
      "cell_type": "markdown",
      "metadata": {
        "id": "SwIelnjsiTus"
      },
      "source": [
        "### Changing tensor data type\n"
      ]
    },
    {
      "cell_type": "code",
      "metadata": {
        "id": "JZxbB4-XiXCp",
        "colab": {
          "base_uri": "https://localhost:8080/"
        },
        "outputId": "9cde633a-79f4-4888-a051-d42f3af335f2"
      },
      "source": [
        "x = torch.rand(2,3) * 20\n",
        "print(x)\n",
        "\n",
        "# Change to integer\n",
        "y = x.to(torch.int32)\n",
        "print(y)"
      ],
      "execution_count": null,
      "outputs": [
        {
          "output_type": "stream",
          "name": "stdout",
          "text": [
            "tensor([[ 5.2548, 11.2986, 15.9907],\n",
            "        [11.2532, 16.4977, 12.8811]])\n",
            "tensor([[ 5, 11, 15],\n",
            "        [11, 16, 12]], dtype=torch.int32)\n"
          ]
        }
      ]
    },
    {
      "cell_type": "markdown",
      "metadata": {
        "id": "eWuSDswYm3wo"
      },
      "source": [
        "### Create a separate copy\n",
        "\n"
      ]
    },
    {
      "cell_type": "code",
      "metadata": {
        "id": "g76w-tQSm62P",
        "colab": {
          "base_uri": "https://localhost:8080/"
        },
        "outputId": "5fc69d22-c815-4a36-cbab-bbac1e413851"
      },
      "source": [
        "a = torch.ones(2, 2)\n",
        "b = a.clone()\n",
        "\n",
        "a[0][1] = 561          # a changes...\n",
        "print(b)               # ...but b is still all ones"
      ],
      "execution_count": null,
      "outputs": [
        {
          "output_type": "stream",
          "name": "stdout",
          "text": [
            "tensor([[1., 1.],\n",
            "        [1., 1.]])\n"
          ]
        }
      ]
    },
    {
      "cell_type": "markdown",
      "metadata": {
        "id": "gPoj6eMq0Mgg"
      },
      "source": [
        "## Basic tensor operations\n",
        "\n",
        "- addition, subtraction, multiplication, division"
      ]
    },
    {
      "cell_type": "code",
      "metadata": {
        "id": "hJ6zOX9k0Ouw",
        "colab": {
          "base_uri": "https://localhost:8080/"
        },
        "outputId": "215f49f5-3640-4728-ae59-8fc0500b28a7"
      },
      "source": [
        "x = torch.rand(2,2)\n",
        "print(f\"x = \\n{x}\\n\")\n",
        "\n",
        "y = torch.rand(2,2)\n",
        "print(f\"y = \\n{y}\\n\")\n",
        "\n",
        "z = torch.add(x,y) # same as z = x + y\n",
        "print(\"x + y = \")\n",
        "print(z)\n",
        "\n",
        "z = torch.sub(x,y) # same as z = x - y\n",
        "print(\"x - y = \")\n",
        "print(z)\n",
        "\n",
        "z = torch.mul(x,y) # same as z = x * y\n",
        "print(\"x * y = \")\n",
        "print(z)\n",
        "\n",
        "z = torch.div(x,y) # same as z = x / y\n",
        "print(\"x / y = \")\n",
        "print(z)\n"
      ],
      "execution_count": null,
      "outputs": [
        {
          "output_type": "stream",
          "name": "stdout",
          "text": [
            "x = \n",
            "tensor([[0.4402, 0.6822],\n",
            "        [0.7523, 0.9359]])\n",
            "\n",
            "y = \n",
            "tensor([[0.5542, 0.3835],\n",
            "        [0.5229, 0.8536]])\n",
            "\n",
            "x + y = \n",
            "tensor([[0.9943, 1.0657],\n",
            "        [1.2752, 1.7896]])\n",
            "x - y = \n",
            "tensor([[-0.1140,  0.2987],\n",
            "        [ 0.2293,  0.0823]])\n",
            "x * y = \n",
            "tensor([[0.2439, 0.2616],\n",
            "        [0.3934, 0.7989]])\n",
            "x / y = \n",
            "tensor([[0.7943, 1.7788],\n",
            "        [1.4386, 1.0964]])\n"
          ]
        }
      ]
    },
    {
      "cell_type": "markdown",
      "metadata": {
        "id": "Yt2iZ5Wr4qTk"
      },
      "source": [
        "### Inplace operations\n", 
        "\n",
        "- any function with a trailing underscore (e.g. ``add_``) will modify the value of the variable in question, in place"
      ]
    },
    {
      "cell_type": "code",
      "metadata": {
        "id": "1xvGeIBw4wM5",
        "colab": {
          "base_uri": "https://localhost:8080/"
        },
        "outputId": "b954e5ed-dad3-43c6-91ba-56ec7327a6e1"
      },
      "source": [
        "x = torch.rand(2,2)\n",
        "print(f\"x = \\n{x}\\n\")\n",
        "\n",
        "y = torch.rand(2,2)\n",
        "print(f\"y = \\n{y}\\n\")\n",
        "\n",
        "# Inplace operations\n",
        "y.add_(x) # modify y by adding x to it\n",
        "print(f\"y + x = {y}\")\n",
        "\n",
        "y.sub_(x) # modify y by subtracting x from it\n",
        "print(f\"y - x = {y}\")\n",
        "\n",
        "y.mul_(x) # modify y by multiplying x to it\n",
        "print(f\"y * x = {y}\")\n",
        "\n",
        "y.div_(x) # modify y by dividing it by x\n",
        "print(f\"y / x = {y}\")\n"
      ],
      "execution_count": null,
      "outputs": [
        {
          "output_type": "stream",
          "name": "stdout",
          "text": [
            "x = \n",
            "tensor([[0.0448, 0.5080],\n",
            "        [0.5344, 0.8500]])\n",
            "\n",
            "y = \n",
            "tensor([[0.3264, 0.0341],\n",
            "        [0.1144, 0.3492]])\n",
            "\n",
            "y + x = tensor([[0.3712, 0.5421],\n",
            "        [0.6488, 1.1992]])\n",
            "y - x = tensor([[0.3264, 0.0341],\n",
            "        [0.1144, 0.3492]])\n",
            "y * x = tensor([[0.0146, 0.0173],\n",
            "        [0.0611, 0.2968]])\n",
            "y / x = tensor([[0.3264, 0.0341],\n",
            "        [0.1144, 0.3492]])\n"
          ]
        }
      ]
    },
    {
      "cell_type": "markdown",
      "metadata": {
        "id": "51KxaSwqO5Xf"
      },
      "source": [
        "## Accessing tensors"
      ]
    },
    {
      "cell_type": "code",
      "metadata": {
        "id": "pIN1M0FxPB6m",
        "colab": {
          "base_uri": "https://localhost:8080/"
        },
        "outputId": "9de37e4f-df0b-41a6-df24-9c04d52e12c5"
      },
      "source": [
        "# Slicing\n",
        "x = torch.rand(5,3)\n",
        "print(x)\n",
        "\n",
        "# Get all rows but only first column\n",
        "print(x[:, 0])\n",
        "\n",
        "# Get all columns but only the second row\n",
        "print(x[1, :])\n",
        "\n",
        "# Get a specific element\n",
        "print(x[2,2])\n",
        "\n",
        "# When the tensor returns only ONE element, use item() to get the actual value of that element\n",
        "print(x[1,1].item())\n",
        "\n",
        "y = torch.tensor([2.0])\n",
        "print(y.item())"
      ],
      "execution_count": null,
      "outputs": [
        {
          "output_type": "stream",
          "name": "stdout",
          "text": [
            "tensor([[0.8335, 0.9758, 0.2251],\n",
            "        [0.2424, 0.9790, 0.7908],\n",
            "        [0.0199, 0.3416, 0.3340],\n",
            "        [0.3808, 0.7337, 0.5929],\n",
            "        [0.4990, 0.1046, 0.3517]])\n",
            "tensor([0.8335, 0.2424, 0.0199, 0.3808, 0.4990])\n",
            "tensor([0.2424, 0.9790, 0.7908])\n",
            "tensor(0.3340)\n",
            "0.9790407419204712\n",
            "2.0\n"
          ]
        }
      ]
    },
    {
      "cell_type": "markdown",
      "metadata": {
        "id": "oRirOVqNYodz"
      },
      "source": [
        "## Tensor Shape & Dimensions\n",
        "- The number of dimensions a tensor has is called its rank and the length in each dimension describes its ``shape``.\n",
        "- To determine the length of each dimension, call ``.shape``\n",
        "- To determine the number of dimensions it has, call ``.ndim``\n"
      ]
    },
    {
      "cell_type": "code",
      "metadata": {
        "id": "OsWYSWvkY19a",
        "colab": {
          "base_uri": "https://localhost:8080/"
        },
        "outputId": "9f6387bb-3a84-4142-be35-58f4bf76d3dd"
      },
      "source": [
        "x = torch.rand(5,3)\n",
        "print(f'{x} \\nhas shape {x.shape} and {x.ndim} dimensions\\n')"
      ],
      "execution_count": null,
      "outputs": [
        {
          "output_type": "stream",
          "name": "stdout",
          "text": [
            "tensor([[0.5982, 0.9619, 0.8296],\n",
            "        [0.5381, 0.1905, 0.1481],\n",
            "        [0.0809, 0.2593, 0.3537],\n",
            "        [0.3014, 0.6264, 0.6077],\n",
            "        [0.6249, 0.5922, 0.7574]]) \n",
            "has shape torch.Size([5, 3]) and 2 dimensions\n",
            "\n"
          ]
        }
      ]
    },
    {
      "cell_type": "markdown",
      "metadata": {
        "id": "B2q-gFywUWUh"
      },
      "source": [
        "## More on Shapes\n",
        "\n",
        "- `[1,5,2,6]` has shape (4,) to indicate it has 4 elements and the missing element after the comma means it is a 1-D tensor or array (vector)\n",
        "- `[[1,5,2,6], [1,2,3,1]]` has shape (2,4) to indicate it has 2 elements and each of these have 4 elements. This is a 2-D tensor or array (matrix or a list of vectors)\n",
        "- `[[[1,5,2,6], [1,2,3,1]], [[5,2,1,2], [6,4,3,2]], [[7,8,5,3], [2,2,9,6]]]` has shape (3, 2, 4) to indicate it has 3 elements in the first dimension, and each of these contain 2 elements and each of these contain 4 elements. This is a 3-D tensor or array\n"
      ]
    },
    {
      "cell_type": "markdown",
      "metadata": {
        "id": "pw4hm1KndIrY"
      },
      "source": [
        "## Operations on tensor dimensions\n",
        "- A tensor dimension is akin to an array's axis. The number of dimensions is called rank.\n",
        "- A scalar has rank 0, a vector has rank 1, a matrix has rank 2, a cuboid has rank 3, etc.\n",
        "- Sometimes one wants to do an operation only on a particular dimension, e.g. on the rows only\n",
        "- Across ``dim=X`` means we do the operation w.r.t to the dimension given and the rest of the dimensions of the tensor stays as they are\n",
        "- in 2-D tensors, ``dim=0`` refers to the columns while ``dim=1`` refers to the rows\n"
      ]
    },
    {
      "cell_type": "code",
      "metadata": {
        "id": "zPATRKKYFWqm",
        "colab": {
          "base_uri": "https://localhost:8080/"
        },
        "outputId": "569952e7-269c-4334-c061-57c5e7edaf8f"
      },
      "source": [
        "x = torch.tensor([[1,2,3],\n",
        "                 [4,5,6]])\n",
        "\n",
        "print(x.shape)\n",
        "print(f'Summing across dim=0 (columns) gives: {torch.sum(x,dim=0)}')\n",
        "\n",
        "print(f'Summing across dim=1 (rows) gives: {torch.sum(x,dim=1)}')\n"
      ],
      "execution_count": null,
      "outputs": [
        {
          "output_type": "stream",
          "name": "stdout",
          "text": [
            "torch.Size([2, 3])\n",
            "Summing across dim=0 (columns) gives: tensor([5, 7, 9])\n",
            "Summing across dim=1 (rows) gives: tensor([ 6, 15])\n"
          ]
        }
      ]
    },
    {
      "cell_type": "markdown",
      "metadata": {
        "id": "JVqsBwKrTYiC"
      },
      "source": [
        "## Reshaping tensors\n",
        "- There are several ways to do this but using ``torch.reshape()`` is the most common\n",
        "- Also look up ``torch.squeeze(), torch.unsqueeze()`` and ``torch.view()``\n"
      ]
    },
    {
      "cell_type": "code",
      "metadata": {
        "id": "hxJhXnj9Tbu7",
        "colab": {
          "base_uri": "https://localhost:8080/"
        },
        "outputId": "a0d338f8-4012-414c-c166-ca6b652fe4b7"
      },
      "source": [
        "x = torch.rand(4,4)\n",
        "print(\"Original:\")\n",
        "print(x)\n",
        "print(x.shape)\n",
        "\n",
        "# Reshape (flatten) to 1-D\n",
        "y = x.reshape(16) # number of elements must be the same as original, error otherwise\n",
        "print(\"Reshaped to 1-D:\")\n",
        "print(y)\n",
        "\n",
        "# Reshape to 2-D\n",
        "y = x.reshape(8,2)\n",
        "print(\"Reshaped to 2-D:\")\n",
        "print(y)\n",
        "\n",
        "# Could leave out one of the dimensions by specifying -1\n",
        "y = x.reshape(1, -1)\n",
        "print(\"Reshaped to 2 x Unspecified 2-D:\")\n",
        "print(y)\n",
        "print(y.shape)\n",
        "\n",
        "# Could use unsqueeze(0) to add a dimension at position 0\n",
        "y = x.unsqueeze(0)\n",
        "print(f'Using unsqueeze(0) to add dimension from original shape {x.shape} to {y.shape}')"
      ],
      "execution_count": null,
      "outputs": [
        {
          "output_type": "stream",
          "name": "stdout",
          "text": [
            "Original:\n",
            "tensor([[0.8557, 0.9721, 0.7973, 0.6047],\n",
            "        [0.4604, 0.0560, 0.1960, 0.2153],\n",
            "        [0.1093, 0.8829, 0.0015, 0.6302],\n",
            "        [0.2895, 0.0272, 0.6683, 0.2886]])\n",
            "torch.Size([4, 4])\n",
            "Reshaped to 1-D:\n",
            "tensor([0.8557, 0.9721, 0.7973, 0.6047, 0.4604, 0.0560, 0.1960, 0.2153, 0.1093,\n",
            "        0.8829, 0.0015, 0.6302, 0.2895, 0.0272, 0.6683, 0.2886])\n",
            "Reshaped to 2-D:\n",
            "tensor([[0.8557, 0.9721],\n",
            "        [0.7973, 0.6047],\n",
            "        [0.4604, 0.0560],\n",
            "        [0.1960, 0.2153],\n",
            "        [0.1093, 0.8829],\n",
            "        [0.0015, 0.6302],\n",
            "        [0.2895, 0.0272],\n",
            "        [0.6683, 0.2886]])\n",
            "Reshaped to 2 x Unspecified 2-D:\n",
            "tensor([[0.8557, 0.9721, 0.7973, 0.6047, 0.4604, 0.0560, 0.1960, 0.2153, 0.1093,\n",
            "         0.8829, 0.0015, 0.6302, 0.2895, 0.0272, 0.6683, 0.2886]])\n",
            "torch.Size([1, 16])\n",
            "Using unsqueeze(0) to add dimension from original shape torch.Size([4, 4]) to torch.Size([1, 4, 4])\n"
          ]
        }
      ]
    },
    {
      "cell_type": "markdown",
      "metadata": {
        "id": "-I4TqJ0gWPmP"
      },
      "source": [
        "## Convert between NumPy and PyTorch tensors\n",
        "\n",
        "- Tensors can work on CPUs and GPUs\n",
        "- NumPy arrays can only work on CPUs"
      ]
    },
    {
      "cell_type": "code",
      "metadata": {
        "id": "w_8klvVsWZ7t",
        "colab": {
          "base_uri": "https://localhost:8080/"
        },
        "outputId": "35e81d0c-f6eb-4bc5-f71c-535551526b24"
      },
      "source": [
        "import torch\n",
        "import numpy as np\n",
        "\n",
        "# Tensor to NumPy\n",
        "a = torch.ones(5)\n",
        "print(a)\n",
        "\n",
        "b = a.numpy()\n",
        "print(b)\n",
        "print(type(b))\n",
        "\n",
        "# b changes when a is modified because they share the same memory space!\n",
        "a.add_(1)\n",
        "print(a)\n",
        "print(b)"
      ],
      "execution_count": null,
      "outputs": [
        {
          "output_type": "stream",
          "name": "stdout",
          "text": [
            "tensor([1., 1., 1., 1., 1.])\n",
            "[1. 1. 1. 1. 1.]\n",
            "<class 'numpy.ndarray'>\n",
            "tensor([2., 2., 2., 2., 2.])\n",
            "[2. 2. 2. 2. 2.]\n"
          ]
        }
      ]
    },
    {
      "cell_type": "code",
      "metadata": {
        "id": "w5WaMa1aXyfb",
        "colab": {
          "base_uri": "https://localhost:8080/"
        },
        "outputId": "8715919b-b9bc-4ac9-d79e-6fb46da002cb"
      },
      "source": [
        "import torch\n",
        "import numpy as np\n",
        "\n",
        "a = np.ones(5)\n",
        "print(a)\n",
        "\n",
        "b = torch.from_numpy(a)\n",
        "print(b)\n",
        "\n",
        "# Modifying array will modify the tensor as well\n",
        "a += 2\n",
        "print(a)\n",
        "print(b)"
      ],
      "execution_count": null,
      "outputs": [
        {
          "output_type": "stream",
          "name": "stdout",
          "text": [
            "[1. 1. 1. 1. 1.]\n",
            "tensor([1., 1., 1., 1., 1.], dtype=torch.float64)\n",
            "[3. 3. 3. 3. 3.]\n",
            "tensor([3., 3., 3., 3., 3.], dtype=torch.float64)\n"
          ]
        }
      ]
    },
    {
      "cell_type": "markdown",
      "metadata": {
        "id": "UFesCS2x7aWa"
      },
      "source": [
        "# Exercise"
      ]
    },
    {
      "cell_type": "code",
      "metadata": {
        "id": "shmdcMiB7cKz",
        "colab": {
          "base_uri": "https://localhost:8080/"
        },
        "outputId": "1104d25e-8afa-4baa-c713-015c51f94f79"
      },
      "source": [
        "# 1. Create a tensor of 100 equally spaced numbers from 0 to 2.\n",
        "# Assign the tensor to x (Hint: use torch.linspace() )\n",
        "\n",
        "# Print x\n",
        "\n",
        "x = torch.linspace(0, 2, steps = 100)\n",
        "print(x)\n",
        "\n"
      ],
      "execution_count": null,
      "outputs": [
        {
          "output_type": "stream",
          "name": "stdout",
          "text": [
            "tensor([0.0000, 0.0202, 0.0404, 0.0606, 0.0808, 0.1010, 0.1212, 0.1414, 0.1616,\n",
            "        0.1818, 0.2020, 0.2222, 0.2424, 0.2626, 0.2828, 0.3030, 0.3232, 0.3434,\n",
            "        0.3636, 0.3838, 0.4040, 0.4242, 0.4444, 0.4646, 0.4848, 0.5051, 0.5253,\n",
            "        0.5455, 0.5657, 0.5859, 0.6061, 0.6263, 0.6465, 0.6667, 0.6869, 0.7071,\n",
            "        0.7273, 0.7475, 0.7677, 0.7879, 0.8081, 0.8283, 0.8485, 0.8687, 0.8889,\n",
            "        0.9091, 0.9293, 0.9495, 0.9697, 0.9899, 1.0101, 1.0303, 1.0505, 1.0707,\n",
            "        1.0909, 1.1111, 1.1313, 1.1515, 1.1717, 1.1919, 1.2121, 1.2323, 1.2525,\n",
            "        1.2727, 1.2929, 1.3131, 1.3333, 1.3535, 1.3737, 1.3939, 1.4141, 1.4343,\n",
            "        1.4545, 1.4747, 1.4949, 1.5152, 1.5354, 1.5556, 1.5758, 1.5960, 1.6162,\n",
            "        1.6364, 1.6566, 1.6768, 1.6970, 1.7172, 1.7374, 1.7576, 1.7778, 1.7980,\n",
            "        1.8182, 1.8384, 1.8586, 1.8788, 1.8990, 1.9192, 1.9394, 1.9596, 1.9798,\n",
            "        2.0000])\n"
          ]
        }
      ]
    },
    {
      "cell_type": "code",
      "metadata": {
        "id": "oUVp1YHh7wDX",
        "colab": {
          "base_uri": "https://localhost:8080/"
        },
        "outputId": "cd6cb920-8c46-4109-db96-a28e4e1290ff"
      },
      "source": [
        "# 3. Print the first 5 numbers in x.\n",
        "\n",
        "print(x[0:5])\n",
        "\n",
        "# 4. Print the last 5 numbers in x\n",
        "\n",
        "print(x[-5:])\n"
      ],
      "execution_count": null,
      "outputs": [
        {
          "output_type": "stream",
          "name": "stdout",
          "text": [
            "tensor([0.0000, 0.0202, 0.0404, 0.0606, 0.0808])\n",
            "tensor([1.9192, 1.9394, 1.9596, 1.9798, 2.0000])\n"
          ]
        }
      ]
    },
    {
      "cell_type": "code",
      "metadata": {
        "id": "8tCONVqtAmvL",
        "colab": {
          "base_uri": "https://localhost:8080/"
        },
        "outputId": "06e39ac9-2dc8-4af0-b6f8-574f191adc1a"
      },
      "source": [
        "# 5. Create another tensor of 100 random values between 0 and 1.\n",
        "# Assign the tensor to y (Hint: use torch.rand() )\n",
        "\n",
        "# Print y\n",
        "\n",
        "y = torch.rand(100)\n",
        "print(y)"
      ],
      "execution_count": null,
      "outputs": [
        {
          "output_type": "stream",
          "name": "stdout",
          "text": [
            "tensor([0.6543, 0.2630, 0.0084, 0.4652, 0.1890, 0.2093, 0.7437, 0.1015, 0.7925,\n",
            "        0.4059, 0.6678, 0.4531, 0.3742, 0.0641, 0.2635, 0.4953, 0.8234, 0.8391,\n",
            "        0.1554, 0.0811, 0.7230, 0.4292, 0.3627, 0.0472, 0.9530, 0.1059, 0.2833,\n",
            "        0.9701, 0.0097, 0.4086, 0.4652, 0.7776, 0.8681, 0.3996, 0.7943, 0.5026,\n",
            "        0.8457, 0.9873, 0.8360, 0.4756, 0.5858, 0.8075, 0.2410, 0.6159, 0.5274,\n",
            "        0.1898, 0.0321, 0.3687, 0.7209, 0.5870, 0.3124, 0.0078, 0.8645, 0.6573,\n",
            "        0.9862, 0.4957, 0.7316, 0.6962, 0.0526, 0.8371, 0.0601, 0.9799, 0.7515,\n",
            "        0.7743, 0.8969, 0.7842, 0.2248, 0.7770, 0.1613, 0.0259, 0.3677, 0.0898,\n",
            "        0.2584, 0.5259, 0.2429, 0.8259, 0.3638, 0.0164, 0.4720, 0.5113, 0.0045,\n",
            "        0.5991, 0.2447, 0.8324, 0.8418, 0.3512, 0.7698, 0.0521, 0.1514, 0.8823,\n",
            "        0.7005, 0.8508, 0.6717, 0.2128, 0.7711, 0.9720, 0.7428, 0.8844, 0.6222,\n",
            "        0.7454])\n"
          ]
        }
      ]
    },
    {
      "cell_type": "code",
      "metadata": {
        "id": "0nowe-YHB2in",
        "colab": {
          "base_uri": "https://localhost:8080/"
        },
        "outputId": "1fc770b3-1272-4b53-8bad-f5a6e88f9987"
      },
      "source": [
        "# 6. Multiply x and y, store the result in z\n",
        "\n",
        "\n",
        "# Print z\n",
        "\n",
        "\n",
        "z = torch.mul(x,y)\n",
        "print(z)\n",
        "z.shape"
      ],
      "execution_count": null,
      "outputs": [
        {
          "output_type": "stream",
          "name": "stdout",
          "text": [
            "tensor([0.0000e+00, 5.3133e-03, 3.3752e-04, 2.8194e-02, 1.5269e-02, 2.1145e-02,\n",
            "        9.0149e-02, 1.4347e-02, 1.2808e-01, 7.3798e-02, 1.3490e-01, 1.0069e-01,\n",
            "        9.0724e-02, 1.6836e-02, 7.4520e-02, 1.5011e-01, 2.6614e-01, 2.8817e-01,\n",
            "        5.6510e-02, 3.1128e-02, 2.9212e-01, 1.8210e-01, 1.6119e-01, 2.1935e-02,\n",
            "        4.6208e-01, 5.3471e-02, 1.4880e-01, 5.2917e-01, 5.5018e-03, 2.3936e-01,\n",
            "        2.8193e-01, 4.8699e-01, 5.6119e-01, 2.6642e-01, 5.4557e-01, 3.5538e-01,\n",
            "        6.1507e-01, 7.3797e-01, 6.4178e-01, 3.7470e-01, 4.7340e-01, 6.6884e-01,\n",
            "        2.0448e-01, 5.3501e-01, 4.6881e-01, 1.7251e-01, 2.9818e-02, 3.5010e-01,\n",
            "        6.9909e-01, 5.8112e-01, 3.1559e-01, 8.0636e-03, 9.0820e-01, 7.0376e-01,\n",
            "        1.0759e+00, 5.5074e-01, 8.2764e-01, 8.0171e-01, 6.1682e-02, 9.9774e-01,\n",
            "        7.2903e-02, 1.2075e+00, 9.4129e-01, 9.8549e-01, 1.1597e+00, 1.0298e+00,\n",
            "        2.9970e-01, 1.0518e+00, 2.2152e-01, 3.6166e-02, 5.2001e-01, 1.2877e-01,\n",
            "        3.7579e-01, 7.7562e-01, 3.6309e-01, 1.2514e+00, 5.5854e-01, 2.5477e-02,\n",
            "        7.4372e-01, 8.1605e-01, 7.2385e-03, 9.8036e-01, 4.0530e-01, 1.3957e+00,\n",
            "        1.4284e+00, 6.0300e-01, 1.3375e+00, 9.1485e-02, 2.6911e-01, 1.5863e+00,\n",
            "        1.2737e+00, 1.5641e+00, 1.2483e+00, 3.9987e-01, 1.4642e+00, 1.8655e+00,\n",
            "        1.4406e+00, 1.7330e+00, 1.2318e+00, 1.4908e+00])\n"
          ]
        },
        {
          "output_type": "execute_result",
          "data": {
            "text/plain": [
              "torch.Size([100])"
            ]
          },
          "metadata": {},
          "execution_count": 19
        }
      ]
    },
    {
      "cell_type": "code",
      "metadata": {
        "id": "E3lmTYJgCJur",
        "colab": {
          "base_uri": "https://localhost:8080/"
        },
        "outputId": "4e2c7d4c-61c4-451c-b9ae-90227919053e"
      },
      "source": [
        "# 7. Reshape z to a tensor with 5 rows and 20 columns\n",
        "# Store reshaped tensor to z2\n",
        "\n",
        "# Print z2\n",
        "z2 = z.reshape(5, 20)\n",
        "print(z2)"
      ],
      "execution_count": null,
      "outputs": [
        {
          "output_type": "stream",
          "name": "stdout",
          "text": [
            "tensor([[0.0000e+00, 5.3133e-03, 3.3752e-04, 2.8194e-02, 1.5269e-02, 2.1145e-02,\n",
            "         9.0149e-02, 1.4347e-02, 1.2808e-01, 7.3798e-02, 1.3490e-01, 1.0069e-01,\n",
            "         9.0724e-02, 1.6836e-02, 7.4520e-02, 1.5011e-01, 2.6614e-01, 2.8817e-01,\n",
            "         5.6510e-02, 3.1128e-02],\n",
            "        [2.9212e-01, 1.8210e-01, 1.6119e-01, 2.1935e-02, 4.6208e-01, 5.3471e-02,\n",
            "         1.4880e-01, 5.2917e-01, 5.5018e-03, 2.3936e-01, 2.8193e-01, 4.8699e-01,\n",
            "         5.6119e-01, 2.6642e-01, 5.4557e-01, 3.5538e-01, 6.1507e-01, 7.3797e-01,\n",
            "         6.4178e-01, 3.7470e-01],\n",
            "        [4.7340e-01, 6.6884e-01, 2.0448e-01, 5.3501e-01, 4.6881e-01, 1.7251e-01,\n",
            "         2.9818e-02, 3.5010e-01, 6.9909e-01, 5.8112e-01, 3.1559e-01, 8.0636e-03,\n",
            "         9.0820e-01, 7.0376e-01, 1.0759e+00, 5.5074e-01, 8.2764e-01, 8.0171e-01,\n",
            "         6.1682e-02, 9.9774e-01],\n",
            "        [7.2903e-02, 1.2075e+00, 9.4129e-01, 9.8549e-01, 1.1597e+00, 1.0298e+00,\n",
            "         2.9970e-01, 1.0518e+00, 2.2152e-01, 3.6166e-02, 5.2001e-01, 1.2877e-01,\n",
            "         3.7579e-01, 7.7562e-01, 3.6309e-01, 1.2514e+00, 5.5854e-01, 2.5477e-02,\n",
            "         7.4372e-01, 8.1605e-01],\n",
            "        [7.2385e-03, 9.8036e-01, 4.0530e-01, 1.3957e+00, 1.4284e+00, 6.0300e-01,\n",
            "         1.3375e+00, 9.1485e-02, 2.6911e-01, 1.5863e+00, 1.2737e+00, 1.5641e+00,\n",
            "         1.2483e+00, 3.9987e-01, 1.4642e+00, 1.8655e+00, 1.4406e+00, 1.7330e+00,\n",
            "         1.2318e+00, 1.4908e+00]])\n"
          ]
        }
      ]
    },
    {
      "cell_type": "code",
      "metadata": {
        "id": "eVWgsb3VPBoS",
        "colab": {
          "base_uri": "https://localhost:8080/"
        },
        "outputId": "ca3e5a81-4e31-4204-eddb-784888500164"
      },
      "source": [
        "# 8. Get the sum of each row in z2\n",
        "\n",
        "print(torch.sum(z2, dim = 1))\n",
        "\n",
        "# 9. Get the mean of each column in z3\n",
        "\n",
        "print(torch.mean(z2, dim = 0))"
      ],
      "execution_count": null,
      "outputs": [
        {
          "output_type": "stream",
          "name": "stdout",
          "text": [
            "tensor([ 1.5864,  6.9627, 10.4342, 12.5642, 21.8165])\n",
            "tensor([0.1691, 0.6088, 0.3425, 0.5933, 0.7069, 0.3760, 0.3812, 0.4074, 0.2647,\n",
            "        0.5034, 0.5052, 0.4577, 0.6368, 0.4325, 0.7047, 0.8346, 0.7416, 0.7173,\n",
            "        0.5471, 0.7421])\n"
          ]
        }
      ]
    },
    {
      "cell_type": "code",
      "metadata": {
        "id": "444o5Ge0DSCp",
        "colab": {
          "base_uri": "https://localhost:8080/"
        },
        "outputId": "595edb06-f972-4fa8-ae9c-20bf3ff4bf07"
      },
      "source": [
        "# 10. Reshape z to a 3D tensor (keep all the elements)\n",
        "# Store reshaped tensor to z3\n",
        "\n",
        "# Print z3\n",
        "\n",
        "z3 = z.reshape(5, 4, -1)\n",
        "print(z3)"
      ],
      "execution_count": null,
      "outputs": [
        {
          "output_type": "stream",
          "name": "stdout",
          "text": [
            "tensor([[[0.0000e+00, 5.3133e-03, 3.3752e-04, 2.8194e-02, 1.5269e-02],\n",
            "         [2.1145e-02, 9.0149e-02, 1.4347e-02, 1.2808e-01, 7.3798e-02],\n",
            "         [1.3490e-01, 1.0069e-01, 9.0724e-02, 1.6836e-02, 7.4520e-02],\n",
            "         [1.5011e-01, 2.6614e-01, 2.8817e-01, 5.6510e-02, 3.1128e-02]],\n",
            "\n",
            "        [[2.9212e-01, 1.8210e-01, 1.6119e-01, 2.1935e-02, 4.6208e-01],\n",
            "         [5.3471e-02, 1.4880e-01, 5.2917e-01, 5.5018e-03, 2.3936e-01],\n",
            "         [2.8193e-01, 4.8699e-01, 5.6119e-01, 2.6642e-01, 5.4557e-01],\n",
            "         [3.5538e-01, 6.1507e-01, 7.3797e-01, 6.4178e-01, 3.7470e-01]],\n",
            "\n",
            "        [[4.7340e-01, 6.6884e-01, 2.0448e-01, 5.3501e-01, 4.6881e-01],\n",
            "         [1.7251e-01, 2.9818e-02, 3.5010e-01, 6.9909e-01, 5.8112e-01],\n",
            "         [3.1559e-01, 8.0636e-03, 9.0820e-01, 7.0376e-01, 1.0759e+00],\n",
            "         [5.5074e-01, 8.2764e-01, 8.0171e-01, 6.1682e-02, 9.9774e-01]],\n",
            "\n",
            "        [[7.2903e-02, 1.2075e+00, 9.4129e-01, 9.8549e-01, 1.1597e+00],\n",
            "         [1.0298e+00, 2.9970e-01, 1.0518e+00, 2.2152e-01, 3.6166e-02],\n",
            "         [5.2001e-01, 1.2877e-01, 3.7579e-01, 7.7562e-01, 3.6309e-01],\n",
            "         [1.2514e+00, 5.5854e-01, 2.5477e-02, 7.4372e-01, 8.1605e-01]],\n",
            "\n",
            "        [[7.2385e-03, 9.8036e-01, 4.0530e-01, 1.3957e+00, 1.4284e+00],\n",
            "         [6.0300e-01, 1.3375e+00, 9.1485e-02, 2.6911e-01, 1.5863e+00],\n",
            "         [1.2737e+00, 1.5641e+00, 1.2483e+00, 3.9987e-01, 1.4642e+00],\n",
            "         [1.8655e+00, 1.4406e+00, 1.7330e+00, 1.2318e+00, 1.4908e+00]]])\n"
          ]
        }
      ]
    }
  ]
}
